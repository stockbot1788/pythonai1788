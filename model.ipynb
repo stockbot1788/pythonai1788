{
 "cells": [
  {
   "cell_type": "code",
   "execution_count": 1,
   "metadata": {},
   "outputs": [
    {
     "name": "stderr",
     "output_type": "stream",
     "text": [
      "Using TensorFlow backend.\n"
     ]
    }
   ],
   "source": [
    "import tensorflow as tf\n",
    "import keras"
   ]
  },
  {
   "cell_type": "code",
   "execution_count": 2,
   "metadata": {},
   "outputs": [
    {
     "data": {
      "text/plain": [
       "('1.3.0', '2.0.8')"
      ]
     },
     "execution_count": 2,
     "metadata": {},
     "output_type": "execute_result"
    }
   ],
   "source": [
    "tf.__version__, keras.__version__"
   ]
  },
  {
   "cell_type": "code",
   "execution_count": 5,
   "metadata": {
    "collapsed": true
   },
   "outputs": [],
   "source": [
    "from keras.layers import Dense, Conv2D, Flatten, Input\n",
    "from keras.models import Model"
   ]
  },
  {
   "cell_type": "code",
   "execution_count": 19,
   "metadata": {},
   "outputs": [
    {
     "name": "stdout",
     "output_type": "stream",
     "text": [
      "_________________________________________________________________\n",
      "Layer (type)                 Output Shape              Param #   \n",
      "=================================================================\n",
      "input_12 (InputLayer)        (None, 42, 1, 1)          0         \n",
      "_________________________________________________________________\n",
      "conv2d_19 (Conv2D)           (None, 20, 1, 10)         40        \n",
      "_________________________________________________________________\n",
      "conv2d_20 (Conv2D)           (None, 9, 1, 20)          620       \n",
      "_________________________________________________________________\n",
      "flatten_6 (Flatten)          (None, 180)               0         \n",
      "_________________________________________________________________\n",
      "dense_6 (Dense)              (None, 56)                10136     \n",
      "_________________________________________________________________\n",
      "pred (Dense)                 (None, 3)                 171       \n",
      "=================================================================\n",
      "Total params: 10,967\n",
      "Trainable params: 10,967\n",
      "Non-trainable params: 0\n",
      "_________________________________________________________________\n"
     ]
    }
   ],
   "source": [
    "input_layer = Input(shape=(42, 1, 1))\n",
    "cnn1 = Conv2D(10, kernel_size=(3,1), strides=(2,1), activation='relu')(input_layer)\n",
    "cnn2 = Conv2D(20, kernel_size=(3,1), strides=(2,1), activation='relu')(cnn1)\n",
    "flat = Flatten()(cnn2)\n",
    "fc1 = Dense(56, activation='relu')(flat)\n",
    "pred = Dense(3, name='pred')(fc1)\n",
    "model = Model(inputs=[input_layer], outputs=[pred], name='CNN')\n",
    "model.summary()"
   ]
  },
  {
   "cell_type": "code",
   "execution_count": 18,
   "metadata": {},
   "outputs": [
    {
     "name": "stdout",
     "output_type": "stream",
     "text": [
      "_________________________________________________________________\n",
      "Layer (type)                 Output Shape              Param #   \n",
      "=================================================================\n",
      "input_11 (InputLayer)        (None, 42, 1, 1)          0         \n",
      "_________________________________________________________________\n",
      "conv2d_17 (Conv2D)           (None, 40, 1, 10)         40        \n",
      "_________________________________________________________________\n",
      "conv2d_18 (Conv2D)           (None, 38, 1, 20)         620       \n",
      "_________________________________________________________________\n",
      "flatten_5 (Flatten)          (None, 760)               0         \n",
      "_________________________________________________________________\n",
      "dense_5 (Dense)              (None, 256)               194816    \n",
      "_________________________________________________________________\n",
      "pred (Dense)                 (None, 3)                 771       \n",
      "=================================================================\n",
      "Total params: 196,247\n",
      "Trainable params: 196,247\n",
      "Non-trainable params: 0\n",
      "_________________________________________________________________\n"
     ]
    }
   ],
   "source": [
    "input_layer = Input(shape=(42, 1, 1))\n",
    "cnn1 = Conv2D(10, kernel_size=(3,1), strides=(1,1), activation='relu')(input_layer)\n",
    "cnn2 = Conv2D(20, kernel_size=(3,1), strides=(1,1), activation='relu')(cnn1)\n",
    "flat = Flatten()(cnn2)\n",
    "fc1 = Dense(256, activation='relu')(flat)\n",
    "pred = Dense(3, name='pred')(fc1)\n",
    "model = Model(inputs=[input_layer], outputs=[pred], name='CNN')\n",
    "model.summary()"
   ]
  },
  {
   "cell_type": "code",
   "execution_count": 21,
   "metadata": {},
   "outputs": [
    {
     "name": "stdout",
     "output_type": "stream",
     "text": [
      "_________________________________________________________________\n",
      "Layer (type)                 Output Shape              Param #   \n",
      "=================================================================\n",
      "input_13 (InputLayer)        (None, 42)                0         \n",
      "_________________________________________________________________\n",
      "dense_7 (Dense)              (None, 32)                1376      \n",
      "_________________________________________________________________\n",
      "dense_8 (Dense)              (None, 16)                528       \n",
      "_________________________________________________________________\n",
      "dense_9 (Dense)              (None, 8)                 136       \n",
      "_________________________________________________________________\n",
      "pred (Dense)                 (None, 3)                 27        \n",
      "=================================================================\n",
      "Total params: 2,067\n",
      "Trainable params: 2,067\n",
      "Non-trainable params: 0\n",
      "_________________________________________________________________\n"
     ]
    }
   ],
   "source": [
    "input_layer = Input(shape=(42, ))\n",
    "fc = Dense(32, activation='relu')(input_layer)\n",
    "fc = Dense(16, activation='relu')(fc)\n",
    "fc = Dense(8, activation='relu')(fc)\n",
    "pred = Dense(3, name='pred')(fc)\n",
    "model = Model(inputs=[input_layer], outputs=[pred], name='fc')\n",
    "model.summary()"
   ]
  },
  {
   "cell_type": "code",
   "execution_count": null,
   "metadata": {
    "collapsed": true
   },
   "outputs": [],
   "source": []
  },
  {
   "cell_type": "code",
   "execution_count": null,
   "metadata": {
    "collapsed": true
   },
   "outputs": [],
   "source": []
  }
 ],
 "metadata": {
  "kernelspec": {
   "display_name": "Python 3",
   "language": "python",
   "name": "python3"
  },
  "language_info": {
   "codemirror_mode": {
    "name": "ipython",
    "version": 3
   },
   "file_extension": ".py",
   "mimetype": "text/x-python",
   "name": "python",
   "nbconvert_exporter": "python",
   "pygments_lexer": "ipython3",
   "version": "3.6.0"
  }
 },
 "nbformat": 4,
 "nbformat_minor": 2
}
